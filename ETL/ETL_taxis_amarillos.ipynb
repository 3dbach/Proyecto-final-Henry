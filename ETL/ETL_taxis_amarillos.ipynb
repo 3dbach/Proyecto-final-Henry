{
 "cells": [
  {
   "cell_type": "code",
   "execution_count": 1,
   "metadata": {},
   "outputs": [],
   "source": [
    "import pandas as pd"
   ]
  },
  {
   "cell_type": "code",
   "execution_count": 2,
   "metadata": {},
   "outputs": [],
   "source": [
    "taxi = pd.read_parquet(\"Datasets_viajes/yellow_tripdata_2023-01.parquet\")"
   ]
  },
  {
   "cell_type": "code",
   "execution_count": null,
   "metadata": {},
   "outputs": [],
   "source": [
    "taxi.columns = taxi.columns.str.lower()"
   ]
  },
  {
   "cell_type": "code",
   "execution_count": null,
   "metadata": {},
   "outputs": [],
   "source": [
    "taxi[\"airport_fee\"] = taxi[\"airport_fee\"].fillna(0)\n",
    "taxi[\"congestion_surcharge\"] = taxi[\"congestion_surcharge\"].fillna(0)\n",
    "taxi[\"store_and_fwd_flag\"] = taxi[\"store_and_fwd_flag\"].fillna(\"N\")\n",
    "taxi = taxi.drop(columns=\"ratecodeid\")\n",
    "taxi[\"passenger_count\"] = taxi[\"passenger_count\"].fillna(0)"
   ]
  },
  {
   "cell_type": "code",
   "execution_count": null,
   "metadata": {},
   "outputs": [],
   "source": [
    "Q1 = taxi['trip_distance'].quantile(0.25)\n",
    "Q3 = taxi['trip_distance'].quantile(0.75)\n",
    "IQR = Q3 - Q1\n",
    "\n",
    "umbral_superior = Q3 + 1.5 * IQR\n",
    "df_filtrado = taxi[taxi['trip_distance'] <= umbral_superior]\n",
    "\n",
    "umbral_superior_tarifa = 250\n",
    "umbral_inferior_tarifa = 0\n",
    "\n",
    "df_filtrado_tarifas = df_filtrado[(df_filtrado['fare_amount'] <= umbral_superior_tarifa) & (df_filtrado['fare_amount'] >= umbral_inferior_tarifa)]"
   ]
  }
 ],
 "metadata": {
  "kernelspec": {
   "display_name": "venv",
   "language": "python",
   "name": "python3"
  },
  "language_info": {
   "codemirror_mode": {
    "name": "ipython",
    "version": 3
   },
   "file_extension": ".py",
   "mimetype": "text/x-python",
   "name": "python",
   "nbconvert_exporter": "python",
   "pygments_lexer": "ipython3",
   "version": "3.11.5"
  }
 },
 "nbformat": 4,
 "nbformat_minor": 2
}
